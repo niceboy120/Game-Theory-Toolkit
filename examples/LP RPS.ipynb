{
 "cells": [
  {
   "cell_type": "markdown",
   "metadata": {},
   "source": [
    "# Linear Program Zero Sum NFG"
   ]
  },
  {
   "cell_type": "code",
   "execution_count": 4,
   "metadata": {},
   "outputs": [],
   "source": [
    "from scipy.optimize import linprog\n",
    "import numpy as np"
   ]
  },
  {
   "cell_type": "code",
   "execution_count": 91,
   "metadata": {},
   "outputs": [],
   "source": [
    "# Row Player (maximizing)\n",
    "# variables z, x_1, ..., x_n\n",
    "def row_strategy(M):\n",
    "    m = M.shape[0]\n",
    "    n = M.shape[1]\n",
    "\n",
    "    # objective is to maximize z\n",
    "    c = np.zeros(m + 1)\n",
    "    c[0] = -1\n",
    "\n",
    "    # bounds\n",
    "    A_ub = []\n",
    "    for i in range(n):\n",
    "        A_ub.append(np.insert(-1*M[:, i], 0, 1.).tolist()[0])\n",
    "    A_ub = np.array(A_ub)\n",
    "    b_ub = np.zeros(n)\n",
    "\n",
    "    # eq \n",
    "    A_eq = np.array([np.ones(m + 1)])\n",
    "    A_eq[0][0] = 0\n",
    "    b_eq = np.array([1])\n",
    "\n",
    "    # bounds\n",
    "    bounds = [(0, None) for i in range(m+1)]\n",
    "    bounds[0] = (None, None)\n",
    "\n",
    "    result = linprog(c, A_ub = A_ub, b_ub = b_ub, A_eq = A_eq, b_eq = b_eq, bounds = bounds)\n",
    "    return result\n",
    "\n",
    "# Col Player (maximizing)\n",
    "# variables z, y_1, ..., y_n\n",
    "def col_strategy(M):\n",
    "    m = M.shape[0]\n",
    "    n = M.shape[1]\n",
    "\n",
    "    # objective is to minimize z\n",
    "    c = np.zeros(n + 1)\n",
    "    c[0] = 1\n",
    "\n",
    "    # bounds\n",
    "    A_ub = []\n",
    "    for i in range(m):\n",
    "        A_ub.append(np.insert(M[i], 0, -1.).tolist()[0])\n",
    "    A_ub = np.array(A_ub)\n",
    "    b_ub = np.zeros(m)\n",
    "\n",
    "    # eq \n",
    "    A_eq = np.array([np.ones(n + 1)])\n",
    "    A_eq[0][0] = 0\n",
    "    b_eq = np.array([1])\n",
    "\n",
    "    # bounds\n",
    "    bounds = [(0, None) for i in range(m+1)]\n",
    "    bounds[0] = (None, None)\n",
    "\n",
    "    result = linprog(c, A_ub = A_ub, b_ub = b_ub, A_eq = A_eq, b_eq = b_eq, bounds = bounds)\n",
    "    return result\n",
    "\n",
    "\n"
   ]
  },
  {
   "cell_type": "code",
   "execution_count": 92,
   "metadata": {},
   "outputs": [],
   "source": [
    "M = np.matrix([[0, -1, 1],\n",
    "              [1, 0, -1],\n",
    "              [-1, 1, 0]])"
   ]
  },
  {
   "cell_type": "code",
   "execution_count": 93,
   "metadata": {},
   "outputs": [],
   "source": [
    "x = row_strategy(M)\n",
    "y = col_strategy(M)"
   ]
  },
  {
   "cell_type": "code",
   "execution_count": 94,
   "metadata": {},
   "outputs": [
    {
     "name": "stdout",
     "output_type": "stream",
     "text": [
      "        message: Optimization terminated successfully. (HiGHS Status 7: Optimal)\n",
      "        success: True\n",
      "         status: 0\n",
      "            fun: 0.0\n",
      "              x: [-0.000e+00  3.333e-01  3.333e-01  3.333e-01]\n",
      "            nit: 4\n",
      "          lower:  residual: [       inf  3.333e-01  3.333e-01  3.333e-01]\n",
      "                 marginals: [ 0.000e+00  0.000e+00  0.000e+00  0.000e+00]\n",
      "          upper:  residual: [       inf        inf        inf        inf]\n",
      "                 marginals: [ 0.000e+00  0.000e+00  0.000e+00  0.000e+00]\n",
      "          eqlin:  residual: [ 0.000e+00]\n",
      "                 marginals: [-0.000e+00]\n",
      "        ineqlin:  residual: [ 0.000e+00  0.000e+00  0.000e+00]\n",
      "                 marginals: [-3.333e-01 -3.333e-01 -3.333e-01]\n",
      " mip_node_count: 0\n",
      " mip_dual_bound: 0.0\n",
      "        mip_gap: 0.0\n"
     ]
    }
   ],
   "source": [
    "print(x)"
   ]
  },
  {
   "cell_type": "code",
   "execution_count": 95,
   "metadata": {},
   "outputs": [
    {
     "name": "stdout",
     "output_type": "stream",
     "text": [
      "        message: Optimization terminated successfully. (HiGHS Status 7: Optimal)\n",
      "        success: True\n",
      "         status: 0\n",
      "            fun: 0.0\n",
      "              x: [-0.000e+00  3.333e-01  3.333e-01  3.333e-01]\n",
      "            nit: 4\n",
      "          lower:  residual: [       inf  3.333e-01  3.333e-01  3.333e-01]\n",
      "                 marginals: [ 0.000e+00  0.000e+00  0.000e+00  0.000e+00]\n",
      "          upper:  residual: [       inf        inf        inf        inf]\n",
      "                 marginals: [ 0.000e+00  0.000e+00  0.000e+00  0.000e+00]\n",
      "          eqlin:  residual: [ 0.000e+00]\n",
      "                 marginals: [-0.000e+00]\n",
      "        ineqlin:  residual: [ 0.000e+00  0.000e+00  0.000e+00]\n",
      "                 marginals: [-3.333e-01 -3.333e-01 -3.333e-01]\n",
      " mip_node_count: 0\n",
      " mip_dual_bound: 0.0\n",
      "        mip_gap: 0.0\n"
     ]
    }
   ],
   "source": [
    "print(y)"
   ]
  },
  {
   "cell_type": "code",
   "execution_count": 96,
   "metadata": {},
   "outputs": [],
   "source": [
    "M = np.matrix([[0, -3, 2],\n",
    "              [3, 0, -1],\n",
    "              [-2, 1, 0]])"
   ]
  },
  {
   "cell_type": "code",
   "execution_count": 97,
   "metadata": {},
   "outputs": [],
   "source": [
    "x = row_strategy(M)\n",
    "y = col_strategy(M)"
   ]
  },
  {
   "cell_type": "code",
   "execution_count": 98,
   "metadata": {},
   "outputs": [
    {
     "name": "stdout",
     "output_type": "stream",
     "text": [
      "        message: Optimization terminated successfully. (HiGHS Status 7: Optimal)\n",
      "        success: True\n",
      "         status: 0\n",
      "            fun: 0.0\n",
      "              x: [-0.000e+00  1.667e-01  3.333e-01  5.000e-01]\n",
      "            nit: 4\n",
      "          lower:  residual: [       inf  1.667e-01  3.333e-01  5.000e-01]\n",
      "                 marginals: [ 0.000e+00  0.000e+00  0.000e+00  0.000e+00]\n",
      "          upper:  residual: [       inf        inf        inf        inf]\n",
      "                 marginals: [ 0.000e+00  0.000e+00  0.000e+00  0.000e+00]\n",
      "          eqlin:  residual: [ 0.000e+00]\n",
      "                 marginals: [-0.000e+00]\n",
      "        ineqlin:  residual: [ 0.000e+00  0.000e+00  0.000e+00]\n",
      "                 marginals: [-1.667e-01 -3.333e-01 -5.000e-01]\n",
      " mip_node_count: 0\n",
      " mip_dual_bound: 0.0\n",
      "        mip_gap: 0.0\n"
     ]
    }
   ],
   "source": [
    "print(x)"
   ]
  },
  {
   "cell_type": "code",
   "execution_count": 99,
   "metadata": {},
   "outputs": [
    {
     "name": "stdout",
     "output_type": "stream",
     "text": [
      "        message: Optimization terminated successfully. (HiGHS Status 7: Optimal)\n",
      "        success: True\n",
      "         status: 0\n",
      "            fun: 0.0\n",
      "              x: [-0.000e+00  1.667e-01  3.333e-01  5.000e-01]\n",
      "            nit: 4\n",
      "          lower:  residual: [       inf  1.667e-01  3.333e-01  5.000e-01]\n",
      "                 marginals: [ 0.000e+00  0.000e+00  0.000e+00  0.000e+00]\n",
      "          upper:  residual: [       inf        inf        inf        inf]\n",
      "                 marginals: [ 0.000e+00  0.000e+00  0.000e+00  0.000e+00]\n",
      "          eqlin:  residual: [ 0.000e+00]\n",
      "                 marginals: [-0.000e+00]\n",
      "        ineqlin:  residual: [ 0.000e+00  0.000e+00  0.000e+00]\n",
      "                 marginals: [-1.667e-01 -3.333e-01 -5.000e-01]\n",
      " mip_node_count: 0\n",
      " mip_dual_bound: 0.0\n",
      "        mip_gap: 0.0\n"
     ]
    }
   ],
   "source": [
    "print(y)"
   ]
  },
  {
   "cell_type": "code",
   "execution_count": 100,
   "metadata": {},
   "outputs": [],
   "source": [
    "M = np.matrix([[0, -6, 4],\n",
    "              [3, 0, -5],\n",
    "              [-2, 1, 0]])"
   ]
  },
  {
   "cell_type": "code",
   "execution_count": 101,
   "metadata": {},
   "outputs": [],
   "source": [
    "x = row_strategy(M)\n",
    "y = col_strategy(M)"
   ]
  },
  {
   "cell_type": "code",
   "execution_count": 105,
   "metadata": {},
   "outputs": [
    {
     "name": "stdout",
     "output_type": "stream",
     "text": [
      "        message: Optimization terminated successfully. (HiGHS Status 7: Optimal)\n",
      "        success: True\n",
      "         status: 0\n",
      "            fun: 0.47058823529411764\n",
      "              x: [-4.706e-01  1.765e-01  2.353e-01  5.882e-01]\n",
      "            nit: 4\n",
      "          lower:  residual: [       inf  1.765e-01  2.353e-01  5.882e-01]\n",
      "                 marginals: [ 0.000e+00  0.000e+00  0.000e+00  0.000e+00]\n",
      "          upper:  residual: [       inf        inf        inf        inf]\n",
      "                 marginals: [ 0.000e+00  0.000e+00  0.000e+00  0.000e+00]\n",
      "          eqlin:  residual: [ 0.000e+00]\n",
      "                 marginals: [ 4.706e-01]\n",
      "        ineqlin:  residual: [ 0.000e+00  0.000e+00  0.000e+00]\n",
      "                 marginals: [-3.824e-01 -2.941e-01 -3.235e-01]\n",
      " mip_node_count: 0\n",
      " mip_dual_bound: 0.0\n",
      "        mip_gap: 0.0\n"
     ]
    }
   ],
   "source": [
    "print(x)"
   ]
  },
  {
   "cell_type": "code",
   "execution_count": 103,
   "metadata": {},
   "outputs": [
    {
     "name": "stdout",
     "output_type": "stream",
     "text": [
      "        message: Optimization terminated successfully. (HiGHS Status 7: Optimal)\n",
      "        success: True\n",
      "         status: 0\n",
      "            fun: -0.47058823529411786\n",
      "              x: [-4.706e-01  3.824e-01  2.941e-01  3.235e-01]\n",
      "            nit: 4\n",
      "          lower:  residual: [       inf  3.824e-01  2.941e-01  3.235e-01]\n",
      "                 marginals: [ 0.000e+00  0.000e+00  0.000e+00  0.000e+00]\n",
      "          upper:  residual: [       inf        inf        inf        inf]\n",
      "                 marginals: [ 0.000e+00  0.000e+00  0.000e+00  0.000e+00]\n",
      "          eqlin:  residual: [ 0.000e+00]\n",
      "                 marginals: [-4.706e-01]\n",
      "        ineqlin:  residual: [ 0.000e+00  0.000e+00  0.000e+00]\n",
      "                 marginals: [-1.765e-01 -2.353e-01 -5.882e-01]\n",
      " mip_node_count: 0\n",
      " mip_dual_bound: 0.0\n",
      "        mip_gap: 0.0\n"
     ]
    }
   ],
   "source": [
    "print(y)"
   ]
  },
  {
   "cell_type": "code",
   "execution_count": null,
   "metadata": {},
   "outputs": [],
   "source": []
  }
 ],
 "metadata": {
  "kernelspec": {
   "display_name": "gamevenv",
   "language": "python",
   "name": "python3"
  },
  "language_info": {
   "codemirror_mode": {
    "name": "ipython",
    "version": 3
   },
   "file_extension": ".py",
   "mimetype": "text/x-python",
   "name": "python",
   "nbconvert_exporter": "python",
   "pygments_lexer": "ipython3",
   "version": "3.12.1"
  }
 },
 "nbformat": 4,
 "nbformat_minor": 2
}
